{
 "cells": [
  {
   "cell_type": "code",
   "execution_count": null,
   "metadata": {
    "collapsed": true
   },
   "outputs": [],
   "source": [
    "import pandas as pd\n",
    "import re\n",
    "\n",
    "from itertools import permutations"
   ]
  },
  {
   "cell_type": "code",
   "execution_count": null,
   "metadata": {
    "collapsed": true
   },
   "outputs": [],
   "source": [
    "r = re.compile('(-*|.*\\s)([0-9]+\\.[0-9]+|-)(.*)')\n",
    "\n",
    "def parseCrossYearEntries(inFile):\n",
    "    matches = {}\n",
    "    with open(inFile, 'r') as oFile:\n",
    "        for line in oFile:\n",
    "            m = r.match(line)\n",
    "            \n",
    "            if m:\n",
    "                parsed = [x.strip() for x in m.groups()]\n",
    "            \n",
    "                if not (parsed[0].startswith('*') or parsed[0].startswith('x') or parsed[0].startswith('--')):\n",
    "                \n",
    "                    if parsed[1] == '-':\n",
    "                        entry_name = parsed[0]\n",
    "                        parsed[1] = 0.0\n",
    "                        entries = []\n",
    "                    parsed[1] = float(parsed[1])\n",
    "                    entries.append(parsed)\n",
    "\n",
    "                elif parsed[0].startswith('--'):\n",
    "                    if len(entries) > 1:\n",
    "                        matches[entry_name] = entries\n",
    "    \n",
    "    return matches"
   ]
  },
  {
   "cell_type": "code",
   "execution_count": null,
   "metadata": {
    "collapsed": true,
    "scrolled": false
   },
   "outputs": [],
   "source": [
    "inFile = '../output/question-group-validation-motherSurvey-final.txt'\n",
    "motherSurvey_matches = parseCrossYearEntries(inFile)\n",
    "inFile = '../output/question-group-validation-fatherSurvey-final.txt'\n",
    "fatherSurvey_matches = parseCrossYearEntries(inFile)"
   ]
  },
  {
   "cell_type": "code",
   "execution_count": null,
   "metadata": {
    "collapsed": true
   },
   "outputs": [],
   "source": [
    "def getPairMatches():\n",
    "    pairMatches = pd.DataFrame()\n",
    "\n",
    "    for k,vals in fatherSurvey_matches.iteritems():\n",
    "\n",
    "        df = pd.DataFrame([{'key': v[0], 'score': v[1], 'desc': v[2]} for v in vals])\n",
    "        df = df.set_index('key')\n",
    "\n",
    "        perms = []\n",
    "        for t,f in permutations(df.index,2):\n",
    "            perms.append({\n",
    "                'to': t,\n",
    "                'from': f,\n",
    "                'score': abs(df.loc[t].score - df.loc[f].score),\n",
    "                'desc': df.loc[t].desc,\n",
    "            })\n",
    "\n",
    "        pairMatches = pd.concat([pairMatches,pd.DataFrame(perms)])\n",
    "\n",
    "    pairMatches = pairMatches.set_index(['from', 'to'])"
   ]
  },
  {
   "cell_type": "code",
   "execution_count": null,
   "metadata": {
    "collapsed": true
   },
   "outputs": [],
   "source": []
  }
 ],
 "metadata": {
  "kernelspec": {
   "display_name": "Python 2",
   "language": "python",
   "name": "python2"
  },
  "language_info": {
   "codemirror_mode": {
    "name": "ipython",
    "version": 2
   },
   "file_extension": ".py",
   "mimetype": "text/x-python",
   "name": "python",
   "nbconvert_exporter": "python",
   "pygments_lexer": "ipython2",
   "version": "2.7.12"
  }
 },
 "nbformat": 4,
 "nbformat_minor": 2
}
