{
 "cells": [
  {
   "cell_type": "code",
   "execution_count": null,
   "metadata": {
    "collapsed": true
   },
   "outputs": [],
   "source": [
    "import pandas as pd\n",
    "from sklearn import feature_selection, tree\n",
    "from sklearn.naive_bayes import MultinomialNB\n",
    "from sklearn.svm import SVC\n",
    "from sklearn import metrics\n",
    "import numpy as np\n",
    "\n",
    "from itertools import product, combinations\n",
    "from matplotlib import pyplot as plt\n",
    "%matplotlib inline"
   ]
  },
  {
   "cell_type": "code",
   "execution_count": null,
   "metadata": {
    "collapsed": true
   },
   "outputs": [],
   "source": [
    "# Get Data for Training...\n",
    "\n",
    "data_dir = '../.data'\n",
    "fp_train = '{}/train.csv'.format(data_dir)\n",
    "df_test = pd.read_csv(fp_train,index_col=0)"
   ]
  },
  {
   "cell_type": "code",
   "execution_count": null,
   "metadata": {},
   "outputs": [],
   "source": [
    "# Get Feature Data...\n",
    "\n",
    "df_path = \"./../FFChallenge_v2/background.dta\"\n",
    "\n",
    "df_features = None\n",
    "with open(df_path, \"r\") as f:\n",
    "    df_features = pd.read_stata(f)\n",
    "    print df_features.head()\n",
    "    \n",
    "df_train = df_features.set_index('challengeID')\n",
    "df_train_na = df_train.replace('NA', np.NaN)\n",
    "df_train_na.cf4fint = pd.to_datetime(df_train_na.cf4fint)\n",
    "df_train_na_cols = df_train_na.columns[df_train_na.dtypes == 'object']\n",
    "df_train_na[df_train_na_cols] = df_train_na[df_train_na_cols].apply(lambda x: pd.to_numeric(x, errors = 'ignore'))\n",
    "\n",
    "df_train_no_obj = df_train_na[df_train_na.columns[df_train_na.dtypes != 'object']]\n",
    "final_cols = df_train_no_obj.columns[~ df_train_no_obj.isnull().all()]\n",
    "df_final = pd.DataFrame(df_train_no_obj[final_cols])\n",
    "print df_final.shape\n",
    "\n",
    "# Find number of unique values in each column. If unique == 1, then remove from final data frame.\n",
    "n = df_final.apply(lambda x: len(x.unique()))\n",
    "df_final = pd.DataFrame(df_final[df_final.columns[n>1]])\n",
    "print df_final.shape"
   ]
  },
  {
   "cell_type": "code",
   "execution_count": null,
   "metadata": {
    "collapsed": true
   },
   "outputs": [],
   "source": [
    "cols_interest = [\n",
    "    'm2h19e',\n",
    "    'm2h19d',\n",
    "    'm2h19f',\n",
    "    'm2h19g',\n",
    "    'm2h19h',\n",
    "#    'f2h17e',\n",
    " #   'f2h17d',\n",
    "#    'f2h17f',\n",
    "#    'f2h17g',\n",
    "#    'f2h17h',\n",
    "    'm3i23c',\n",
    "    'm3i23b',\n",
    "    'm3i23d',\n",
    "    'f3i23c',\n",
    "    'f3i23b',\n",
    "    'f3i23d',\n",
    "    'm4i23e',\n",
    "    'm4i23d',\n",
    "    'm4i23f',\n",
    "    'm4i23g',\n",
    "    'm4i23h',\n",
    "    'm5f23e',\n",
    "    'm5f23d',\n",
    "    'm5f23f',\n",
    "    'm5f23g',\n",
    "    'm5f23h',\n",
    "    'n5g1d',\n",
    "    'n5g1e',\n",
    "    'n5g1c',\n",
    "]\n",
    "\n",
    "df = pd.DataFrame(df_final[cols_interest])\n"
   ]
  },
  {
   "cell_type": "code",
   "execution_count": null,
   "metadata": {
    "collapsed": true
   },
   "outputs": [],
   "source": [
    "evict = df_test.eviction.dropna()"
   ]
  },
  {
   "cell_type": "code",
   "execution_count": null,
   "metadata": {
    "collapsed": true
   },
   "outputs": [],
   "source": [
    "train = df.loc[evict.index]"
   ]
  },
  {
   "cell_type": "code",
   "execution_count": null,
   "metadata": {
    "collapsed": true
   },
   "outputs": [],
   "source": [
    "X = train.apply(lambda x: x.cat.codes)\n",
    "X['sum'] = X.sum(axis=1)\n",
    "Y = evict"
   ]
  },
  {
   "cell_type": "code",
   "execution_count": null,
   "metadata": {
    "collapsed": true
   },
   "outputs": [],
   "source": [
    "def checkNegative(x):\n",
    "    return isinstance(x, basestring) and x.startswith('-')"
   ]
  },
  {
   "cell_type": "code",
   "execution_count": null,
   "metadata": {
    "collapsed": true
   },
   "outputs": [],
   "source": [
    "chi2, pval = feature_selection.chi2(X,Y)\n",
    "feat_indx = X.columns[~np.isnan(chi2)]\n",
    "chi2_nona = chi2[~np.isnan(chi2)]\n",
    "pval_nona = pval[~np.isnan(chi2)]\n",
    "n_unique = X.apply(lambda x: len(x.unique()))\n",
    "n_nan = X.apply(lambda x: x.isnull().sum())\n",
    "n_other = train.applymap(checkNegative).sum()\n",
    "\n",
    "feat_rank = pd.DataFrame({\n",
    "    'chi2': chi2_nona, \n",
    "    'pval': pval_nona,\n",
    "    'unqe': n_unique,\n",
    "    'n_nan': n_nan,\n",
    "    'other': n_other,\n",
    "}, index = feat_indx)"
   ]
  },
  {
   "cell_type": "code",
   "execution_count": null,
   "metadata": {},
   "outputs": [],
   "source": [
    "ordered = feat_rank.sort_values('pval')\n",
    "print ordered"
   ]
  },
  {
   "cell_type": "code",
   "execution_count": null,
   "metadata": {},
   "outputs": [],
   "source": [
    "cols = ordered.index[0:]\n",
    "cutoff = 500\n",
    "#clf = MultinomialNB()\n",
    "#clf = tree.DecisionTreeClassifier()\n",
    "clf = SVC(probability=True)\n",
    "clf.fit(X[cols].iloc[:cutoff], Y[:cutoff])"
   ]
  },
  {
   "cell_type": "code",
   "execution_count": null,
   "metadata": {},
   "outputs": [],
   "source": [
    "out = clf.predict(X[cols].iloc[cutoff:])\n",
    "out_p = clf.predict_proba(X[cols].iloc[cutoff:])\n",
    "plt.hist(out)\n",
    "print metrics.classification_report(Y[cutoff:], out)\n",
    "print metrics.confusion_matrix(Y[cutoff:], out)\n",
    "print metrics.brier_score_loss(Y[cutoff:], out)\n",
    "print metrics.brier_score_loss(Y[cutoff:], out_p[:,1])"
   ]
  },
  {
   "cell_type": "code",
   "execution_count": null,
   "metadata": {},
   "outputs": [],
   "source": [
    "out_p"
   ]
  },
  {
   "cell_type": "code",
   "execution_count": null,
   "metadata": {},
   "outputs": [],
   "source": [
    "X['m5f23e'][Y==0].hist(normed=True, alpha=0.5)\n",
    "X['m5f23e'][Y==1].hist(normed=True, alpha=0.5)"
   ]
  },
  {
   "cell_type": "code",
   "execution_count": null,
   "metadata": {},
   "outputs": [],
   "source": [
    "df['m5f23e']"
   ]
  },
  {
   "cell_type": "code",
   "execution_count": null,
   "metadata": {
    "collapsed": true
   },
   "outputs": [],
   "source": []
  }
 ],
 "metadata": {
  "kernelspec": {
   "display_name": "Python 2",
   "language": "python",
   "name": "python2"
  },
  "language_info": {
   "codemirror_mode": {
    "name": "ipython",
    "version": 2
   },
   "file_extension": ".py",
   "mimetype": "text/x-python",
   "name": "python",
   "nbconvert_exporter": "python",
   "pygments_lexer": "ipython2",
   "version": "2.7.12"
  }
 },
 "nbformat": 4,
 "nbformat_minor": 2
}
