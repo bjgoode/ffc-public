{
 "cells": [
  {
   "cell_type": "code",
   "execution_count": null,
   "metadata": {
    "collapsed": true
   },
   "outputs": [],
   "source": [
    "import pandas as pd\n",
    "from sklearn import feature_selection, tree\n",
    "from sklearn.naive_bayes import MultinomialNB\n",
    "from sklearn import metrics\n",
    "import numpy as np\n",
    "\n",
    "from itertools import product, combinations\n",
    "from matplotlib import pyplot as plt\n",
    "%matplotlib inline"
   ]
  },
  {
   "cell_type": "code",
   "execution_count": null,
   "metadata": {
    "collapsed": true
   },
   "outputs": [],
   "source": [
    "# Get Data for Training...\n",
    "\n",
    "data_dir = '../.data'\n",
    "fp_train = '{}/train.csv'.format(data_dir)\n",
    "df_test = pd.read_csv(fp_train,index_col=0)"
   ]
  },
  {
   "cell_type": "code",
   "execution_count": null,
   "metadata": {
    "scrolled": false
   },
   "outputs": [],
   "source": [
    "# Get Feature Data...\n",
    "\n",
    "df_path = \"./../FFChallenge_v2/background.dta\"\n",
    "\n",
    "df_features = None\n",
    "with open(df_path, \"r\") as f:\n",
    "    df_features = pd.read_stata(f)\n",
    "    print df_features.head()\n",
    "    \n",
    "df_train = df_features.set_index('challengeID')\n",
    "df_train_na = df_train.replace('NA', np.NaN)\n",
    "df_train_na.cf4fint = pd.to_datetime(df_train_na.cf4fint)\n",
    "df_train_na_cols = df_train_na.columns[df_train_na.dtypes == 'object']\n",
    "df_train_na[df_train_na_cols] = df_train_na[df_train_na_cols].apply(lambda x: pd.to_numeric(x, errors = 'ignore'))\n",
    "\n",
    "df_train_no_obj = df_train_na[df_train_na.columns[df_train_na.dtypes != 'object']]\n",
    "final_cols = df_train_no_obj.columns[~ df_train_no_obj.isnull().all()]\n",
    "df_final = pd.DataFrame(df_train_no_obj[final_cols])\n",
    "print df_final.shape\n",
    "\n",
    "# Find number of unique values in each column. If unique == 1, then remove from final data frame.\n",
    "n = df_final.apply(lambda x: len(x.unique()))\n",
    "df_final = pd.DataFrame(df_final[df_final.columns[n>1]])\n",
    "print df_final.shape"
   ]
  },
  {
   "cell_type": "code",
   "execution_count": null,
   "metadata": {
    "collapsed": true
   },
   "outputs": [],
   "source": [
    "# Explore Categories\n",
    "cat_cols = df_final[df_final.columns[df_final.dtypes == 'category']]\n",
    "cat_cols_codes = cat_cols.apply(lambda x: x.cat.codes)"
   ]
  },
  {
   "cell_type": "code",
   "execution_count": null,
   "metadata": {},
   "outputs": [],
   "source": [
    "cat_cols.head()"
   ]
  },
  {
   "cell_type": "code",
   "execution_count": null,
   "metadata": {},
   "outputs": [],
   "source": [
    "print df_test.columns"
   ]
  },
  {
   "cell_type": "code",
   "execution_count": null,
   "metadata": {},
   "outputs": [],
   "source": [
    "# Form dataset\n",
    "col = 'grit'\n",
    "Y = df_test[col][~ df_test[col].isnull()]\n",
    "keys = dict(zip(Y.unique(),range(len(Y.unique()))))\n",
    "Y = Y.apply(lambda x: keys[x])\n",
    "X = cat_cols_codes.loc[Y.index]\n",
    "\n",
    "# Have to figure out NaNs...\n",
    "\n",
    "# Check Indices for equivalence:\n",
    "nDiff = len(set.difference(set(Y.index), set(X.index)))\n",
    "print nDiff"
   ]
  },
  {
   "cell_type": "code",
   "execution_count": null,
   "metadata": {
    "collapsed": true
   },
   "outputs": [],
   "source": [
    "chi2, pval = feature_selection.chi2(X,Y)\n",
    "feat_indx = X.columns[~np.isnan(chi2)]\n",
    "chi2_nona = chi2[~np.isnan(chi2)]\n",
    "pval_nona = pval[~np.isnan(chi2)]\n",
    "n_unique = X.apply(lambda x: len(x.unique()))\n",
    "n_nan = X.apply(lambda x: x.isnull().sum())\n",
    "n_other = cat_cols.applymap(checkNegative).sum()\n",
    "\n",
    "feat_rank = pd.DataFrame({\n",
    "    'chi2': chi2_nona, \n",
    "    'pval': pval_nona,\n",
    "    'unqe': n_unique,\n",
    "    'n_nan': n_nan,\n",
    "    'other': n_other,\n",
    "}, index = feat_indx)"
   ]
  },
  {
   "cell_type": "code",
   "execution_count": null,
   "metadata": {},
   "outputs": [],
   "source": [
    "H = plt.hist(chi2_nona[pval_nona < .001], bins=100)"
   ]
  },
  {
   "cell_type": "code",
   "execution_count": null,
   "metadata": {},
   "outputs": [],
   "source": [
    "feat_rank.n_nan.hist(bins=100)"
   ]
  },
  {
   "cell_type": "code",
   "execution_count": null,
   "metadata": {
    "scrolled": true
   },
   "outputs": [],
   "source": [
    "ordered = feat_rank[(feat_rank.unqe < 10) & (feat_rank.other <20)].sort_values('pval')\n",
    "print ordered"
   ]
  },
  {
   "cell_type": "code",
   "execution_count": null,
   "metadata": {},
   "outputs": [],
   "source": [
    "test = 'cm1povca'\n",
    "x = df_final[test].cat.codes\n",
    "\n",
    "for val in Y.unique():\n",
    "    vals = Y[Y==val].index\n",
    "    x.loc[vals].plot.hist(normed = True, alpha = .75, label=val)\n",
    "plt.legend()"
   ]
  },
  {
   "cell_type": "code",
   "execution_count": null,
   "metadata": {
    "collapsed": true
   },
   "outputs": [],
   "source": [
    "def checkNegative(x):\n",
    "    return isinstance(x, basestring) and x.startswith('-')"
   ]
  },
  {
   "cell_type": "code",
   "execution_count": null,
   "metadata": {},
   "outputs": [],
   "source": [
    "cols = ordered.index[0:1]\n",
    "cutoff = 500\n",
    "#clf = MultinomialNB()\n",
    "clf = tree.DecisionTreeClassifier()\n",
    "clf.fit(X[cols].iloc[:cutoff], Y[:cutoff])"
   ]
  },
  {
   "cell_type": "code",
   "execution_count": null,
   "metadata": {
    "collapsed": true
   },
   "outputs": [],
   "source": [
    "out = clf.predict(X[cols].iloc[cutoff:])"
   ]
  },
  {
   "cell_type": "code",
   "execution_count": null,
   "metadata": {},
   "outputs": [],
   "source": [
    "plt.hist(out)\n",
    "print metrics.classification_report(Y[cutoff:], out)\n",
    "print metrics.confusion_matrix(Y[cutoff:], out)"
   ]
  },
  {
   "cell_type": "code",
   "execution_count": null,
   "metadata": {},
   "outputs": [],
   "source": [
    "Y.hist()"
   ]
  },
  {
   "cell_type": "code",
   "execution_count": null,
   "metadata": {
    "collapsed": true
   },
   "outputs": [],
   "source": [
    "x = df_final.t5b1m.loc[df_test.index[~df_test.gpa.isnull()]]\n",
    "y = df_test.gpa[~df_test.gpa.isnull()]"
   ]
  },
  {
   "cell_type": "code",
   "execution_count": null,
   "metadata": {},
   "outputs": [],
   "source": [
    "plt.plot(x.cat.codes, y, '.')"
   ]
  },
  {
   "cell_type": "code",
   "execution_count": null,
   "metadata": {
    "collapsed": true
   },
   "outputs": [],
   "source": [
    "teacher_test = df_final[df_final.columns[list(df_final.columns.map(lambda x: x.startswith('t5')))]]"
   ]
  },
  {
   "cell_type": "code",
   "execution_count": null,
   "metadata": {},
   "outputs": [],
   "source": [
    "teacher_test"
   ]
  },
  {
   "cell_type": "code",
   "execution_count": null,
   "metadata": {},
   "outputs": [],
   "source": [
    "teacher_test.loc[1].value_counts()"
   ]
  },
  {
   "cell_type": "code",
   "execution_count": null,
   "metadata": {},
   "outputs": [],
   "source": [
    "teacher_test.t5a4.apply(lambda x: x.startswith('-')).sum()"
   ]
  },
  {
   "cell_type": "code",
   "execution_count": null,
   "metadata": {},
   "outputs": [],
   "source": [
    "teacher_test"
   ]
  },
  {
   "cell_type": "code",
   "execution_count": null,
   "metadata": {
    "collapsed": true
   },
   "outputs": [],
   "source": []
  }
 ],
 "metadata": {
  "kernelspec": {
   "display_name": "Python 2",
   "language": "python",
   "name": "python2"
  },
  "language_info": {
   "codemirror_mode": {
    "name": "ipython",
    "version": 2
   },
   "file_extension": ".py",
   "mimetype": "text/x-python",
   "name": "python",
   "nbconvert_exporter": "python",
   "pygments_lexer": "ipython2",
   "version": "2.7.12"
  }
 },
 "nbformat": 4,
 "nbformat_minor": 2
}
