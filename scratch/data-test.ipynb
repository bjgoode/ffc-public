{
 "cells": [
  {
   "cell_type": "code",
   "execution_count": null,
   "metadata": {
    "collapsed": true
   },
   "outputs": [],
   "source": [
    "import pandas as pd\n",
    "import sklearn as sk\n",
    "\n",
    "from itertools import product, combinations\n",
    "from matplotlib import pyplot as plt\n",
    "%matplotlib inline"
   ]
  },
  {
   "cell_type": "code",
   "execution_count": null,
   "metadata": {
    "collapsed": true
   },
   "outputs": [],
   "source": [
    "data_dir = '../.data'\n",
    "\n",
    "fp_train = '{}/train.csv'.format(data_dir)\n",
    "\n",
    "df_test = pd.read_csv(fp_train,index_col=0)"
   ]
  },
  {
   "cell_type": "markdown",
   "metadata": {},
   "source": [
    "### What are we trying to predict?\n",
    "\n",
    "    1. GPA\n",
    "    2. Grit\n",
    "    3. materialHardship (some kind of score)\n",
    "    4. eviction\n",
    "    5. layoff\n",
    "    6. jobTraining\n",
    "    \n",
    "### How many valid test samples do we have?\n",
    "Non-na rows are: 1014\n"
   ]
  },
  {
   "cell_type": "code",
   "execution_count": null,
   "metadata": {},
   "outputs": [],
   "source": [
    "print 'Total: {}'.format(len(df_test))\n",
    "print 'Full Row: {}'.format(len(df_test.dropna()))\n",
    "print 'GPA Only: {}'.format(len(df_test.gpa.dropna()))\n",
    "print 'Grit Only: {}'.format(len(df_test.grit.dropna()))\n",
    "print 'Material Hardship Only: {}'.format(len(df_test.materialHardship.dropna()))\n",
    "print 'Eviction Only: {}'.format(len(df_test.eviction.dropna()))\n",
    "print 'Layoff Only: {}'.format(len(df_test.layoff.dropna()))\n",
    "print 'JobTraining Only: {}'.format(len(df_test.jobTraining.dropna()))"
   ]
  },
  {
   "cell_type": "markdown",
   "metadata": {},
   "source": [
    "### GPA\n",
    "» School GPA\n",
    "\n",
    "Why would GPA not be available??\n",
    "- dropouts? » definitely skewed in that direction\n"
   ]
  },
  {
   "cell_type": "code",
   "execution_count": null,
   "metadata": {},
   "outputs": [],
   "source": [
    "# Find distribution.\n",
    "\n",
    "gpa = df_test.gpa.dropna()\n",
    "gpa.hist()\n",
    "df_test.dropna().gpa.hist()\n",
    "print gpa.unique()\n",
    "print gpa.value_counts()"
   ]
  },
  {
   "cell_type": "markdown",
   "metadata": {},
   "source": [
    "### Grit\n",
    "Why would grit not be available??"
   ]
  },
  {
   "cell_type": "code",
   "execution_count": null,
   "metadata": {},
   "outputs": [],
   "source": [
    "# Find distribution.\n",
    "\n",
    "grit = df_test.grit.dropna()\n",
    "grit.hist(bins=30)\n",
    "df_test.dropna().grit.hist(bins=30)\n",
    "print grit.unique()"
   ]
  },
  {
   "cell_type": "code",
   "execution_count": null,
   "metadata": {},
   "outputs": [],
   "source": [
    "# Find distribution.\n",
    "\n",
    "mh = df_test.materialHardship.dropna()\n",
    "mh.hist(bins=100)\n",
    "df_test.dropna().materialHardship.hist(bins=100)\n",
    "print mh.unique()"
   ]
  },
  {
   "cell_type": "code",
   "execution_count": null,
   "metadata": {},
   "outputs": [],
   "source": [
    "# Find distribution.\n",
    "\n",
    "eviction = df_test.eviction.dropna()\n",
    "\n",
    "eviction.hist()\n",
    "\n",
    "df_test.dropna().eviction.hist()"
   ]
  },
  {
   "cell_type": "code",
   "execution_count": null,
   "metadata": {},
   "outputs": [],
   "source": [
    "# Find distribution.\n",
    "\n",
    "layoff = df_test.layoff.dropna()\n",
    "layoff.hist()\n",
    "df_test.dropna().layoff.hist()"
   ]
  },
  {
   "cell_type": "code",
   "execution_count": null,
   "metadata": {},
   "outputs": [],
   "source": [
    "# Find distribution.\n",
    "\n",
    "jobTraining = df_test.jobTraining.dropna()\n",
    "jobTraining.hist()\n",
    "df_test.dropna().jobTraining.hist()"
   ]
  },
  {
   "cell_type": "code",
   "execution_count": null,
   "metadata": {
    "collapsed": true
   },
   "outputs": [],
   "source": [
    "df_nona = df_test.dropna()"
   ]
  },
  {
   "cell_type": "code",
   "execution_count": null,
   "metadata": {},
   "outputs": [],
   "source": [
    "#One-way interactions\n",
    "names = ['eviction', 'layoff', 'jobTraining']\n",
    "tests = ['gpa', 'grit', 'materialHardship']\n",
    "\n",
    "\n",
    "i = 0\n",
    "\n",
    "plt.figure(figsize = (20,10))\n",
    "\n",
    "for name, test in product(names,tests):\n",
    "    x = i % 3\n",
    "    y = i // 3\n",
    "    i += 1\n",
    "    plt.subplot2grid((3,3), (x,y), rowspan=1, colspan=1)\n",
    "    case1 = df_nona[df_nona[name] == 0]\n",
    "    case1[test].plot.density(title = '{}-{}'.format(name,test))\n",
    "    case2 = df_nona[df_nona[name] == 1]\n",
    "    case2[test].plot.density()"
   ]
  },
  {
   "cell_type": "code",
   "execution_count": null,
   "metadata": {},
   "outputs": [],
   "source": [
    "#Two-way interactions\n",
    "names = combinations(['eviction', 'layoff', 'jobTraining'], 2)\n",
    "tests = ['gpa', 'grit', 'materialHardship']\n",
    "\n",
    "\n",
    "i = 0\n",
    "\n",
    "plt.figure(figsize = (10,10))\n",
    "\n",
    "for name, test in product(names,tests):\n",
    "    x = i % 3\n",
    "    y = i// 3\n",
    "    i += 1\n",
    "    plt.subplot2grid((3,3), (x,y), rowspan=1, colspan=1)\n",
    "    case1 = df_nona[(df_nona[name[0]] == 0) & (df_nona[name[1]] == 0)]\n",
    "    case1[test].plot.density(title = '{}:{} - {}'.format(name[0],name[1],test))\n",
    "    case2 = df_nona[(df_nona[name[0]] == 1) & (df_nona[name[1]] == 1)]\n",
    "    case2[test].plot.density()\n",
    "    case3 = df_nona[(df_nona[name[0]] == 0) & (df_nona[name[1]] == 1)]\n",
    "    case3[test].plot.density()\n",
    "    case4 = df_nona[(df_nona[name[0]] == 1) & (df_nona[name[1]] == 0)]\n",
    "    case4[test].plot.density()"
   ]
  },
  {
   "cell_type": "code",
   "execution_count": null,
   "metadata": {},
   "outputs": [],
   "source": [
    "names = combinations(['eviction', 'layoff', 'jobTraining'], 3)\n",
    "tests = ['gpa', 'grit', 'materialHardship']\n",
    "\n",
    "\n",
    "i = 0\n",
    "\n",
    "plt.figure(figsize = (10,10))\n",
    "\n",
    "for name, test in product(names,tests):\n",
    "    y = i % 3\n",
    "    x = i// 3\n",
    "    i += 1\n",
    "    plt.subplot2grid((3,3), (x,y), rowspan=1, colspan=1)\n",
    "    case1 = df_nona[(df_nona[name[0]] == 0) & (df_nona[name[1]] == 0) & (df_nona[name[2]] == 0)]\n",
    "    case1[test].plot.density(title = '{}:{} - {}'.format(name[0],name[1],test))\n",
    "    case2 = df_nona[(df_nona[name[0]] == 1) & (df_nona[name[1]] == 1) & (df_nona[name[2]] == 0)]\n",
    "    case2[test].plot.density()\n",
    "    case3 = df_nona[(df_nona[name[0]] == 0) & (df_nona[name[1]] == 1) & (df_nona[name[2]] == 0)]\n",
    "    case3[test].plot.density()\n",
    "    case4 = df_nona[(df_nona[name[0]] == 1) & (df_nona[name[1]] == 0) & (df_nona[name[2]] == 0)]\n",
    "    case4[test].plot.density()\n",
    "    case5 = df_nona[(df_nona[name[0]] == 0) & (df_nona[name[1]] == 0) & (df_nona[name[2]] == 1)]\n",
    "    case5[test].plot.density()\n",
    "    case6 = df_nona[(df_nona[name[0]] == 1) & (df_nona[name[1]] == 1) & (df_nona[name[2]] == 1)]\n",
    "    case6[test].plot.density()\n",
    "    case7 = df_nona[(df_nona[name[0]] == 0) & (df_nona[name[1]] == 1) & (df_nona[name[2]] == 1)]\n",
    "    case7[test].plot.density()\n",
    "    case8 = df_nona[(df_nona[name[0]] == 1) & (df_nona[name[1]] == 0) & (df_nona[name[2]] == 1)]\n",
    "    case8[test].plot.density()"
   ]
  },
  {
   "cell_type": "markdown",
   "metadata": {},
   "source": [
    "#### Conclusion:\n",
    "\n",
    "Only significant interaction is that between ***eviction and material hardship***; and even that only affects a small number of the estimated population - probably not a good test.\n",
    "\n",
    "We should at least ensure that the distributions produced in aggregate; assuming random sampling are aligned with these distributions."
   ]
  },
  {
   "cell_type": "code",
   "execution_count": null,
   "metadata": {
    "collapsed": true
   },
   "outputs": [],
   "source": []
  }
 ],
 "metadata": {
  "kernelspec": {
   "display_name": "Python 2",
   "language": "python",
   "name": "python2"
  },
  "language_info": {
   "codemirror_mode": {
    "name": "ipython",
    "version": 2
   },
   "file_extension": ".py",
   "mimetype": "text/x-python",
   "name": "python",
   "nbconvert_exporter": "python",
   "pygments_lexer": "ipython2",
   "version": "2.7.12"
  }
 },
 "nbformat": 4,
 "nbformat_minor": 2
}
