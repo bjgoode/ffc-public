{
 "cells": [
  {
   "cell_type": "code",
   "execution_count": null,
   "metadata": {
    "collapsed": true
   },
   "outputs": [],
   "source": [
    "import pandas as pd\n",
    "from sklearn.preprocessing import StandardScaler\n",
    "from sklearn.linear_model import LassoCV, LinearRegression, Lasso\n",
    "from sklearn.metrics import mean_squared_error\n",
    "from sklearn.model_selection import cross_val_score\n",
    "\n",
    "import sys\n",
    "sys.path.append('../src/')\n",
    "from ffcDataCleaning.CodeBook import getCodeDescription"
   ]
  },
  {
   "cell_type": "code",
   "execution_count": null,
   "metadata": {},
   "outputs": [],
   "source": [
    "features = pd.read_csv('../output/imputing/.data/imputed.csv', index_col=0)\n",
    "features.head()"
   ]
  },
  {
   "cell_type": "code",
   "execution_count": null,
   "metadata": {
    "collapsed": true
   },
   "outputs": [],
   "source": [
    "data_dir = '../.data'\n",
    "fp_train = '{}/train.csv'.format(data_dir)\n",
    "df_test = pd.read_csv(fp_train,index_col=0)"
   ]
  },
  {
   "cell_type": "code",
   "execution_count": null,
   "metadata": {},
   "outputs": [],
   "source": [
    "Y = df_test.materialHardship.dropna()\n",
    "print Y.shape\n",
    "idx = Y.index\n",
    "\n",
    "S = StandardScaler()\n",
    "X = S.fit_transform(features.loc[idx])\n",
    "print X.shape"
   ]
  },
  {
   "cell_type": "code",
   "execution_count": null,
   "metadata": {},
   "outputs": [],
   "source": [
    "b = 500\n",
    "reg = LassoCV(selection='random')\n",
    "reg.fit(X[:b],Y[:b])"
   ]
  },
  {
   "cell_type": "code",
   "execution_count": null,
   "metadata": {
    "collapsed": true
   },
   "outputs": [],
   "source": [
    "from sklearn.feature_selection import SelectFromModel\n",
    "\n",
    "ms = SelectFromModel(reg, threshold = 0.0001, prefit = True)\n",
    "x_red = ms.transform(X)\n",
    "impt_features = features.columns[ms.get_support()]"
   ]
  },
  {
   "cell_type": "code",
   "execution_count": null,
   "metadata": {},
   "outputs": [],
   "source": [
    "print '\\n'.join(['{:.<15s}{}'.format(x,getCodeDescription(x)) for x in impt_features])"
   ]
  },
  {
   "cell_type": "code",
   "execution_count": null,
   "metadata": {},
   "outputs": [],
   "source": [
    "Y_pred = reg.predict(X[b:])\n",
    "print mean_squared_error(Y[b:], Y_pred)"
   ]
  },
  {
   "cell_type": "code",
   "execution_count": null,
   "metadata": {},
   "outputs": [],
   "source": [
    "reg2 = LassoCV()\n",
    "reg2.fit(x_red,Y)\n",
    "Y_pred = reg2.predict(x_red[b:])\n",
    "print mean_squared_error(Y[b:], Y_pred)\n",
    "print reg2.alpha_"
   ]
  },
  {
   "cell_type": "code",
   "execution_count": null,
   "metadata": {},
   "outputs": [],
   "source": [
    "scores = cross_val_score(Lasso(alpha=.004,selection='random'),x_red,Y,cv=10,scoring='neg_mean_squared_error',n_jobs=-1)\n",
    "print abs(scores)\n",
    "print scores.mean()\n"
   ]
  },
  {
   "cell_type": "code",
   "execution_count": null,
   "metadata": {
    "collapsed": true
   },
   "outputs": [],
   "source": []
  }
 ],
 "metadata": {
  "kernelspec": {
   "display_name": "Python 2",
   "language": "python",
   "name": "python2"
  },
  "language_info": {
   "codemirror_mode": {
    "name": "ipython",
    "version": 2
   },
   "file_extension": ".py",
   "mimetype": "text/x-python",
   "name": "python",
   "nbconvert_exporter": "python",
   "pygments_lexer": "ipython2",
   "version": "2.7.12"
  }
 },
 "nbformat": 4,
 "nbformat_minor": 2
}
