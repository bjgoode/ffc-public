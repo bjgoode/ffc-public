{
 "cells": [
  {
   "cell_type": "code",
   "execution_count": null,
   "metadata": {
    "collapsed": true
   },
   "outputs": [],
   "source": [
    "import pandas as pd\n",
    "from sklearn import feature_selection, tree\n",
    "from sklearn.naive_bayes import MultinomialNB\n",
    "from sklearn.svm import LinearSVC, SVC, LinearSVR\n",
    "from sklearn.linear_model import BayesianRidge, LinearRegression, LassoCV, LogisticRegressionCV\n",
    "from sklearn import metrics\n",
    "from sklearn.preprocessing import normalize\n",
    "import numpy as np\n",
    "\n",
    "from itertools import product, combinations\n",
    "from matplotlib import pyplot as plt\n",
    "%matplotlib inline"
   ]
  },
  {
   "cell_type": "code",
   "execution_count": null,
   "metadata": {
    "collapsed": true
   },
   "outputs": [],
   "source": [
    "# Get Data for Training...\n",
    "\n",
    "data_dir = '../.data'\n",
    "fp_train = '{}/train.csv'.format(data_dir)\n",
    "df_test = pd.read_csv(fp_train,index_col=0)"
   ]
  },
  {
   "cell_type": "code",
   "execution_count": null,
   "metadata": {},
   "outputs": [],
   "source": [
    "# Get Feature Data...\n",
    "\n",
    "df_path = \"./../FFChallenge_v2/background.dta\"\n",
    "\n",
    "df_features = None\n",
    "with open(df_path, \"r\") as f:\n",
    "    df_features = pd.read_stata(f)\n",
    "    #print df_features.head()\n",
    "    \n",
    "df_train = df_features.set_index('challengeID')\n",
    "df_train_na = df_train.replace('NA', np.NaN)\n",
    "df_train_na.cf4fint = pd.to_datetime(df_train_na.cf4fint)\n",
    "df_train_na_cols = df_train_na.columns[df_train_na.dtypes == 'object']\n",
    "df_train_na[df_train_na_cols] = df_train_na[df_train_na_cols].apply(lambda x: pd.to_numeric(x, errors = 'ignore'))\n",
    "\n",
    "df_train_no_obj = df_train_na[df_train_na.columns[df_train_na.dtypes != 'object']]\n",
    "final_cols = df_train_no_obj.columns[~ df_train_no_obj.isnull().all()]\n",
    "df_final = pd.DataFrame(df_train_no_obj[final_cols])\n",
    "print df_final.shape\n",
    "\n",
    "# Find number of unique values in each column. If unique == 1, then remove from final data frame.\n",
    "n = df_final.apply(lambda x: len(x.unique()))\n",
    "df_final = pd.DataFrame(df_final[df_final.columns[n>1]])\n",
    "print df_final.shape"
   ]
  },
  {
   "cell_type": "code",
   "execution_count": null,
   "metadata": {
    "collapsed": true
   },
   "outputs": [],
   "source": [
    "def prepare(x):\n",
    "    if isinstance(x, basestring):\n",
    "        return int(x.split(' ')[0])\n",
    "    else:\n",
    "        return x"
   ]
  },
  {
   "cell_type": "code",
   "execution_count": null,
   "metadata": {
    "collapsed": true
   },
   "outputs": [],
   "source": [
    "grps = [\n",
    "#    't5b1',\n",
    "#    't5b2',\n",
    "#    't5b3',\n",
    "#    't5b4',\n",
    "#    't5c13',\n",
    "#    't5d1',\n",
    "#    'k5g1',\n",
    "#    'k5g2',\n",
    "#    'k5d1',\n",
    "    'hv4ppvtraw',\n",
    "#    'hv4ppvtraw_m',\n",
    "    'hv5_wj9raw',\n",
    "    'hv5_wj10raw',\n",
    "    'hv5_wj9ss',\n",
    "    'hv5_wj10ss',\n",
    "    'hv5_ppvtraw',\n",
    "    'hv5_ppvtss',\n",
    "#    'm5j1',\n",
    "#    'hv4t',\n",
    "#    'cm1bsex'\n",
    "]\n",
    "\n",
    "df = pd.DataFrame()\n",
    "cols = {}\n",
    "for grp in grps:\n",
    "    col_name = '{}_avg'.format(grp)\n",
    "    cols[grp] = df_final.columns[list(df_final.columns.map(lambda x: x.startswith(grp)))]\n",
    "    df_temp = df_final[cols[grp]].applymap(prepare)\n",
    "    df_temp = df_temp[df_temp[cols[grp][0]] > -9]\n",
    "    df_temp = df_temp.apply(lambda x: x * (x >= 0))\n",
    "    df_temp = df_temp.mean(axis=1)\n",
    "    \n",
    "    df[col_name] = df_temp\n",
    "    \n",
    "#df = pd.DataFrame(df_final[cols])\n",
    "#df = pd.DataFrame(df_final)"
   ]
  },
  {
   "cell_type": "code",
   "execution_count": null,
   "metadata": {},
   "outputs": [],
   "source": [
    "threshold = 2.85\n",
    "df['gpa'] = df_test.gpa\n",
    "teacher_survey = df.dropna()\n",
    "print 'Before cutting: {}'.format(teacher_survey.shape)\n"
   ]
  },
  {
   "cell_type": "code",
   "execution_count": null,
   "metadata": {},
   "outputs": [],
   "source": [
    "b = 500\n",
    "cols = teacher_survey.columns[teacher_survey.columns != 'gpa']\n",
    "\n",
    "clf = LogisticRegressionCV()\n",
    "X = teacher_survey[cols]\n",
    "Y = teacher_survey.gpa\n",
    "clf.fit(X.iloc[:b], Y.iloc[:b] > threshold)"
   ]
  },
  {
   "cell_type": "code",
   "execution_count": null,
   "metadata": {},
   "outputs": [],
   "source": [
    "out = clf.predict(X[cols].iloc[b:])\n",
    "out_proba = clf.predict_proba(X[cols].iloc[b:])\n",
    "Y[b:].hist(alpha = 0.5)\n",
    "print metrics.classification_report(Y[b:] > threshold, out)\n",
    "print metrics.confusion_matrix(Y[b:]> threshold, out)\n"
   ]
  },
  {
   "cell_type": "code",
   "execution_count": null,
   "metadata": {},
   "outputs": [],
   "source": [
    "reg = LassoCV(normalize=True)\n",
    "xr = clf.predict_proba(X[cols].iloc[:b])\n",
    "yr = Y[:b].values\n",
    "reg.fit(xr, yr)\n",
    "out_reg = reg.predict(out_proba)\n",
    "print metrics.mean_squared_error(Y[b:], out_reg)"
   ]
  },
  {
   "cell_type": "code",
   "execution_count": null,
   "metadata": {},
   "outputs": [],
   "source": [
    "plt.hist(out_reg)"
   ]
  },
  {
   "cell_type": "code",
   "execution_count": null,
   "metadata": {},
   "outputs": [],
   "source": [
    "chi2, pval = feature_selection.f_regression(X,Y)\n",
    "feat_indx = X.columns[~np.isnan(chi2)]\n",
    "chi2_nona = chi2[~np.isnan(chi2)]\n",
    "pval_nona = pval[~np.isnan(chi2)]\n",
    "#n_unique = X.apply(lambda x: len(x.unique()))\n",
    "#n_nan = X.apply(lambda x: x.isnull().sum())\n",
    "#n_other = train.applymap(checkNegative).sum()\n",
    "\n",
    "feat_rank = pd.DataFrame({\n",
    "    'chi2': chi2_nona, \n",
    "    'pval': pval_nona,\n",
    "#    'unqe': n_unique,\n",
    "#    'n_nan': n_nan,\n",
    "#    'other': n_other,\n",
    "}, index = feat_indx)\n",
    "ordered = feat_rank.sort_values('pval')\n",
    "print ordered"
   ]
  },
  {
   "cell_type": "code",
   "execution_count": null,
   "metadata": {},
   "outputs": [],
   "source": [
    "reg = LassoCV(normalize=True)\n",
    "#reg = tree.DecisionTreeRegressor()\n",
    "reg.fit(X.iloc[:b], Y.iloc[:b])\n",
    "out_lasso = reg.predict(X.iloc[b:])\n",
    "print metrics.mean_squared_error(Y[b:], out_lasso)"
   ]
  },
  {
   "cell_type": "code",
   "execution_count": null,
   "metadata": {
    "collapsed": true
   },
   "outputs": [],
   "source": []
  }
 ],
 "metadata": {
  "kernelspec": {
   "display_name": "Python 2",
   "language": "python",
   "name": "python2"
  },
  "language_info": {
   "codemirror_mode": {
    "name": "ipython",
    "version": 2
   },
   "file_extension": ".py",
   "mimetype": "text/x-python",
   "name": "python",
   "nbconvert_exporter": "python",
   "pygments_lexer": "ipython2",
   "version": "2.7.12"
  }
 },
 "nbformat": 4,
 "nbformat_minor": 2
}
