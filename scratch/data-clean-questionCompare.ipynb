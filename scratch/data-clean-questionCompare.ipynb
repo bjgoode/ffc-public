{
 "cells": [
  {
   "cell_type": "code",
   "execution_count": null,
   "metadata": {
    "collapsed": true
   },
   "outputs": [],
   "source": [
    "import pandas as pd\n",
    "import numpy as np\n",
    "import glob\n",
    "import json\n",
    "\n",
    "from itertools import chain\n",
    "from urllib2 import urlopen\n",
    "\n",
    "from matplotlib import pyplot as plt\n",
    "%matplotlib inline"
   ]
  },
  {
   "cell_type": "code",
   "execution_count": null,
   "metadata": {
    "collapsed": true
   },
   "outputs": [],
   "source": [
    "response = urlopen('https://codalab.fragilefamilieschallenge.org/f/api/codebook/')\n",
    "code_book = json.loads(response.read())\n",
    "code_book = pd.DataFrame(code_book)\n",
    "code_book = code_book.set_index('code')"
   ]
  },
  {
   "cell_type": "code",
   "execution_count": null,
   "metadata": {
    "collapsed": true
   },
   "outputs": [],
   "source": [
    "m_files = glob.glob('../output/m*year*year*.csv')\n",
    "f_files = glob.glob('../output/f*year*year*.csv')"
   ]
  },
  {
   "cell_type": "code",
   "execution_count": null,
   "metadata": {
    "collapsed": true
   },
   "outputs": [],
   "source": [
    "def findBestMatches(x):\n",
    "    x = x.drop_duplicates()\n",
    "    matched = x['distance score'] < x['threshold']\n",
    "    \n",
    "    if any(matched):\n",
    "        indexes = x[x['distance score'] == x['distance score'].min()].dropna()\n",
    "        # Remember multi-index..............vvv\n",
    "        return [[index[0], index[1], x.loc[index]['distance score']] for index in indexes.index]\n",
    "    else:\n",
    "        return [[x.index[0][0], np.nan, np.nan]]\n",
    "    \n",
    "def getMatchList(f):\n",
    "    \n",
    "    df = pd.read_csv(f)\n",
    "\n",
    "    question,candidate = zip(*df.relation.apply(lambda x: x.split(':')))\n",
    "    index = pd.MultiIndex.from_arrays([question,candidate], names=['question', 'candidate'])\n",
    "    df.index = index\n",
    "\n",
    "    grp = df['distance score'].groupby(by='question')\n",
    "    mean = grp.mean()\n",
    "    std = grp.std()\n",
    "    thr = pd.DataFrame(mean - std*2)\n",
    "    thr.columns = ['threshold']\n",
    "\n",
    "    df = df.merge(thr,left_index=True, right_index=True)\n",
    "\n",
    "    grp = df.groupby(by='question')\n",
    "    results = grp.apply(findBestMatches)\n",
    "    vals = list(chain.from_iterable(results.values))\n",
    "    #print vals\n",
    "    idx, match, score = zip(*vals)\n",
    "    bestMatches = pd.DataFrame({'match': match,'score': score},index=idx)\n",
    "    bestMatches.index.name = 'question'\n",
    "    \n",
    "    return bestMatches"
   ]
  },
  {
   "cell_type": "code",
   "execution_count": null,
   "metadata": {
    "collapsed": true
   },
   "outputs": [],
   "source": [
    "def smush(X):\n",
    "    out = []\n",
    "    for x in X.itertuples():\n",
    "        out.append((x.match, x.score))\n",
    "    out.append((x.Index, '-'))\n",
    "    out.sort()\n",
    "    return out\n",
    "\n",
    "def getCodeDescription(x):\n",
    "    if code_book.index.isin([x]).any():\n",
    "        return code_book.loc[x].description.encode('utf-8')\n",
    "    else:\n",
    "        return 'SUSPECT: No Description!'"
   ]
  },
  {
   "cell_type": "code",
   "execution_count": null,
   "metadata": {
    "collapsed": true
   },
   "outputs": [],
   "source": [
    "matches = pd.DataFrame()\n",
    "for f in f_files:\n",
    "    new = getMatchList(f)\n",
    "    matches = pd.concat((matches,new))\n",
    "\n",
    "matches = matches.dropna()\n",
    "grp = matches.groupby('question')\n",
    "question_groups = grp.apply(smush)\n",
    "question_groups = question_groups.reset_index(drop=True)"
   ]
  },
  {
   "cell_type": "code",
   "execution_count": null,
   "metadata": {},
   "outputs": [],
   "source": [
    "def scoreKey(x):\n",
    "    if (x > 26) and (x != '-'):\n",
    "        return '*'\n",
    "    else: \n",
    "        return ' '\n",
    "    \n",
    "with open('../output/question-group-validation-fatherSurvey-v2.txt', 'wb') as wFile:\n",
    "    \n",
    "    for key,val in question_groups.iteritems():\n",
    "        string = '\\n'.join(['{:2}{:10}{:<7} {}'.format(scoreKey(i[1]),i[0],i[1],getCodeDescription(i[0])) for i in val])\n",
    "        line = '{}\\n\\n---------------------------\\n'.format(string)\n",
    "        \n",
    "        print line\n",
    "        wFile.write(line)"
   ]
  },
  {
   "cell_type": "code",
   "execution_count": null,
   "metadata": {
    "collapsed": true
   },
   "outputs": [],
   "source": []
  }
 ],
 "metadata": {
  "kernelspec": {
   "display_name": "Python 2",
   "language": "python",
   "name": "python2"
  },
  "language_info": {
   "codemirror_mode": {
    "name": "ipython",
    "version": 2
   },
   "file_extension": ".py",
   "mimetype": "text/x-python",
   "name": "python",
   "nbconvert_exporter": "python",
   "pygments_lexer": "ipython2",
   "version": "2.7.12"
  }
 },
 "nbformat": 4,
 "nbformat_minor": 2
}
