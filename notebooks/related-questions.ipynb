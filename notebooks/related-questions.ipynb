{
 "cells": [
  {
   "cell_type": "code",
   "execution_count": null,
   "metadata": {
    "collapsed": true
   },
   "outputs": [],
   "source": [
    "from nltk import edit_distance\n",
    "from itertools import product, combinations\n",
    "import csv\n",
    "from joblib import Parallel, delayed"
   ]
  },
  {
   "cell_type": "code",
   "execution_count": null,
   "metadata": {
    "collapsed": true
   },
   "outputs": [],
   "source": [
    "D = []\n",
    "IdNum = 354\n",
    "i = 0\n",
    "for x,y in product([pairMatches[pairMatches.yearId ==2]['m_desc'].iloc[IdNum]], pairMatches[pairMatches.yearId == 4]['m_desc']):\n",
    "    i += 1\n",
    "    \n",
    "    if i % 1000 == 0:\n",
    "        print 'I = {}\\r'.format(i),\n",
    "    D.append(edit_distance(x,y))"
   ]
  },
  {
   "cell_type": "code",
   "execution_count": null,
   "metadata": {
    "collapsed": true
   },
   "outputs": [],
   "source": [
    "def runDistanceAnalysis(yrs,mf):\n",
    "    \n",
    "    yr1, yr2 = yrs\n",
    "    \n",
    "    if mf == 'm':\n",
    "        survey = 'motherSurvey'\n",
    "    else:\n",
    "        survey = 'fatherSurvey'\n",
    "    \n",
    "    idx_1 = pairMatches[pairMatches.yearId==yr1][survey].values\n",
    "    idx_2 = pairMatches[pairMatches.yearId==yr2][survey].values\n",
    "    \n",
    "    idx_list = product(idx_1,idx_2)\n",
    "    i = 0\n",
    "    D = []\n",
    "    for x,y in idx_list:\n",
    "        i += 1\n",
    "\n",
    "        if i % 1000 == 0:\n",
    "            print '{}-Year{}-Year{} = {}\\r'.format(mf,yr1,yr2,i),\n",
    "\n",
    "        desc_x = pairMatches[pairMatches[survey]== x]['{}_desc'.format(mf)].values[0]\n",
    "        desc_y = pairMatches[pairMatches[survey]== y]['{}_desc'.format(mf)].values[0]\n",
    "        D.append(('{}:{}'.format(x,y),edit_distance(desc_x,desc_y)))\n",
    "            \n",
    "    with open('../output/{}_survey_year{}-year{}.csv'.format(mf,yr1,yr2), 'wb') as wFile:\n",
    "        csv_out=csv.writer(wFile)\n",
    "        csv_out.writerow(['relation','distance score'])\n",
    "        for row in D:\n",
    "            csv_out.writerow(row)\n",
    "    \n",
    "    return True\n",
    "    \n",
    "yrs = [1,2,3,4,5]\n",
    "yr_list = combinations(yrs,2)\n",
    "in_para = product(yr_list,['m', 'f'])\n",
    "\n",
    "Parallel(n_jobs=20)(delayed(runDistanceAnalysis)(yrs=yrs,mf=mf) for yrs,mf in in_para)"
   ]
  }
 ],
 "metadata": {
  "kernelspec": {
   "display_name": "Python 2",
   "language": "python",
   "name": "python2"
  },
  "language_info": {
   "codemirror_mode": {
    "name": "ipython",
    "version": 2
   },
   "file_extension": ".py",
   "mimetype": "text/x-python",
   "name": "python",
   "nbconvert_exporter": "python",
   "pygments_lexer": "ipython2",
   "version": "2.7.12"
  }
 },
 "nbformat": 4,
 "nbformat_minor": 2
}
