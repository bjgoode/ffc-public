{
 "cells": [
  {
   "cell_type": "code",
   "execution_count": null,
   "metadata": {
    "collapsed": true
   },
   "outputs": [],
   "source": [
    "import pandas as pd\n",
    "from sklearn.preprocessing import StandardScaler\n",
    "from sklearn.linear_model import LassoCV, LinearRegression, Lasso\n",
    "from sklearn.metrics import mean_squared_error\n",
    "from sklearn.model_selection import cross_val_score\n",
    "\n",
    "import sys\n",
    "sys.path.append('../src/')\n",
    "from ffcDataCleaning.CodeBook import getCodeDescription\n",
    "\n",
    "from matplotlib import pyplot as plt\n",
    "%matplotlib inline"
   ]
  },
  {
   "cell_type": "code",
   "execution_count": null,
   "metadata": {},
   "outputs": [],
   "source": [
    "gen_features = pd.read_csv('../output/imputing/.data/imputed.csv', index_col=0)\n",
    "gen_features.head()"
   ]
  },
  {
   "cell_type": "code",
   "execution_count": null,
   "metadata": {},
   "outputs": [],
   "source": [
    "specific_features = pd.read_csv('../output/imputing/.data/materialHardship_features.csv', index_col=0)\n",
    "specific_features_total = pd.read_csv('../output/imputing/.data/materialHardshipTotal_features.csv', index_col=0)\n",
    "specific_features = specific_features.join([specific_features_total])\n",
    "specific_features.head()\n",
    "print specific_features.shape\n",
    "print specific_features.columns"
   ]
  },
  {
   "cell_type": "code",
   "execution_count": null,
   "metadata": {},
   "outputs": [],
   "source": [
    "features = specific_features\n",
    "#features = pd.concat([specific_features,gen_features], axis = 1)\n",
    "print features.shape\n",
    "features.head()"
   ]
  },
  {
   "cell_type": "code",
   "execution_count": null,
   "metadata": {
    "collapsed": true
   },
   "outputs": [],
   "source": [
    "data_dir = '../.data'\n",
    "fp_train = '{}/train.csv'.format(data_dir)\n",
    "df_test = pd.read_csv(fp_train,index_col=0)"
   ]
  },
  {
   "cell_type": "code",
   "execution_count": null,
   "metadata": {},
   "outputs": [],
   "source": [
    "Y = df_test.materialHardship.dropna()\n",
    "print Y.shape\n",
    "idx = Y.index\n",
    "\n",
    "S = StandardScaler()\n",
    "idx_features = features.index\n",
    "FEATURES_TRAIN = S.fit_transform(features)\n",
    "X = FEATURES_TRAIN[idx-1,:]\n",
    "print X.shape"
   ]
  },
  {
   "cell_type": "code",
   "execution_count": null,
   "metadata": {},
   "outputs": [],
   "source": [
    "b = 500\n",
    "reg = LassoCV(selection='random', cv=10, n_jobs=-1)\n",
    "reg.fit(X[:b],Y[:b])"
   ]
  },
  {
   "cell_type": "code",
   "execution_count": null,
   "metadata": {
    "collapsed": true
   },
   "outputs": [],
   "source": [
    "from sklearn.feature_selection import SelectFromModel\n",
    "\n",
    "ms = SelectFromModel(reg, threshold = 0.00001, prefit = True)\n",
    "x_red = ms.transform(X)\n",
    "impt_features = features.columns[ms.get_support()]"
   ]
  },
  {
   "cell_type": "code",
   "execution_count": null,
   "metadata": {},
   "outputs": [],
   "source": [
    "print '\\n'.join(['{:.<15s}{}'.format(x,getCodeDescription(x)) for x in impt_features])"
   ]
  },
  {
   "cell_type": "code",
   "execution_count": null,
   "metadata": {},
   "outputs": [],
   "source": [
    "Y_pred = reg.predict(X[b:])\n",
    "print mean_squared_error(Y[b:], Y_pred)\n",
    "plt.hist(Y_pred, normed=True)\n",
    "plt.hist(Y, normed=True)"
   ]
  },
  {
   "cell_type": "code",
   "execution_count": null,
   "metadata": {},
   "outputs": [],
   "source": [
    "reg2 = LassoCV()\n",
    "reg2.fit(x_red,Y)\n",
    "Y_pred = reg2.predict(x_red[b:])\n",
    "print mean_squared_error(Y[b:], Y_pred)\n",
    "print reg2.alpha_"
   ]
  },
  {
   "cell_type": "markdown",
   "metadata": {},
   "source": [
    "#### Best Score: 0.02415\n",
    "#### Baseline Score: 0.02880"
   ]
  },
  {
   "cell_type": "code",
   "execution_count": null,
   "metadata": {},
   "outputs": [],
   "source": [
    "scores = cross_val_score(LinearRegression(),x_red,Y,cv=10,scoring='neg_mean_squared_error',n_jobs=-1)\n",
    "print abs(scores)\n",
    "print scores.mean()"
   ]
  },
  {
   "cell_type": "code",
   "execution_count": null,
   "metadata": {
    "collapsed": true
   },
   "outputs": [],
   "source": []
  },
  {
   "cell_type": "markdown",
   "metadata": {},
   "source": [
    "## Final Fit\n",
    "\n",
    "1. Use all features -- reduced during selection."
   ]
  },
  {
   "cell_type": "code",
   "execution_count": null,
   "metadata": {
    "collapsed": true
   },
   "outputs": [],
   "source": [
    "final_reg = LassoCV(selection='random', cv=10, n_jobs=-1)\n",
    "final_reg.fit(X,Y)\n",
    "Y_Final = final_reg.predict(FEATURES_TRAIN)"
   ]
  },
  {
   "cell_type": "code",
   "execution_count": null,
   "metadata": {
    "collapsed": true
   },
   "outputs": [],
   "source": [
    "Y_Final = pd.DataFrame(Y_Final, index = idx_features, columns=['materialHardship'])"
   ]
  },
  {
   "cell_type": "code",
   "execution_count": null,
   "metadata": {
    "scrolled": true
   },
   "outputs": [],
   "source": [
    "#sanity checks\n",
    "print Y_Final.shape\n",
    "print mean_squared_error(Y.values,Y_Final.loc[idx].values)\n",
    "Y_Final.hist()\n",
    "Y.hist()"
   ]
  },
  {
   "cell_type": "code",
   "execution_count": null,
   "metadata": {
    "collapsed": true
   },
   "outputs": [],
   "source": [
    "Y_Final.to_csv('../output/solutions/Solution1/materialHardship.csv')"
   ]
  },
  {
   "cell_type": "code",
   "execution_count": null,
   "metadata": {
    "collapsed": true
   },
   "outputs": [],
   "source": []
  }
 ],
 "metadata": {
  "kernelspec": {
   "display_name": "Python 2",
   "language": "python",
   "name": "python2"
  },
  "language_info": {
   "codemirror_mode": {
    "name": "ipython",
    "version": 2
   },
   "file_extension": ".py",
   "mimetype": "text/x-python",
   "name": "python",
   "nbconvert_exporter": "python",
   "pygments_lexer": "ipython2",
   "version": "2.7.12"
  }
 },
 "nbformat": 4,
 "nbformat_minor": 2
}
