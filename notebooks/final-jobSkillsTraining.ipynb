{
 "cells": [
  {
   "cell_type": "code",
   "execution_count": null,
   "metadata": {
    "collapsed": true
   },
   "outputs": [],
   "source": [
    "import pandas as pd\n",
    "from sklearn.preprocessing import StandardScaler\n",
    "from sklearn.linear_model import LassoCV, LinearRegression, Lasso, LogisticRegressionCV, LogisticRegression\n",
    "from sklearn.metrics import make_scorer, brier_score_loss\n",
    "from sklearn.model_selection import cross_val_score\n",
    "\n",
    "import sys\n",
    "sys.path.append('../src/')\n",
    "from ffcDataCleaning.CodeBook import getCodeDescription\n",
    "\n",
    "from matplotlib import pyplot as plt\n",
    "%matplotlib inline"
   ]
  },
  {
   "cell_type": "code",
   "execution_count": null,
   "metadata": {},
   "outputs": [],
   "source": [
    "gen_features = pd.read_csv('../output/imputing/.data/imputed.csv', index_col=0)\n",
    "gen_features.head()\n",
    "print gen_features.shape"
   ]
  },
  {
   "cell_type": "code",
   "execution_count": null,
   "metadata": {},
   "outputs": [],
   "source": [
    "specific_features = pd.read_csv('../output/imputing/.data/jobSkill_features.csv', index_col=0)\n",
    "specific_features.head()\n",
    "specific_features['total'] = specific_features.sum(axis=1)\n",
    "print specific_features.shape"
   ]
  },
  {
   "cell_type": "code",
   "execution_count": null,
   "metadata": {},
   "outputs": [],
   "source": [
    "features = specific_features#pd.concat([specific_features,gen_features], axis = 1)\n",
    "print features.shape\n",
    "features.head()"
   ]
  },
  {
   "cell_type": "code",
   "execution_count": null,
   "metadata": {
    "collapsed": true
   },
   "outputs": [],
   "source": [
    "data_dir = '../.data'\n",
    "fp_train = '{}/train.csv'.format(data_dir)\n",
    "df_test = pd.read_csv(fp_train,index_col=0)"
   ]
  },
  {
   "cell_type": "code",
   "execution_count": null,
   "metadata": {},
   "outputs": [],
   "source": [
    "Y = df_test.jobTraining.dropna()\n",
    "print Y.shape\n",
    "idx = Y.index\n",
    "\n",
    "S = StandardScaler()\n",
    "idx_features = features.index\n",
    "FEATURES_TRAIN = S.fit_transform(features)\n",
    "X = FEATURES_TRAIN[idx-1,:]\n",
    "print X.shape"
   ]
  },
  {
   "cell_type": "code",
   "execution_count": null,
   "metadata": {},
   "outputs": [],
   "source": [
    "b = 500\n",
    "reg = LogisticRegressionCV()\n",
    "reg.fit(X[:b],Y[:b])\n",
    "print reg.C_\n",
    "print reg.coef_"
   ]
  },
  {
   "cell_type": "code",
   "execution_count": null,
   "metadata": {},
   "outputs": [],
   "source": [
    "Y_pred = reg.predict(X[b:])\n",
    "Y_prob = reg.predict_proba(X[b:])\n",
    "print Y_prob[:,0].shape\n",
    "plt.hist(Y_prob[:,1])\n",
    "print brier_score_loss(Y[b:], Y_prob[:,1])"
   ]
  },
  {
   "cell_type": "code",
   "execution_count": null,
   "metadata": {
    "collapsed": true
   },
   "outputs": [],
   "source": [
    "def one_term_brier(x,y):\n",
    "    return brier_score_loss(x,y[:,1])\n",
    "brier_scorer = make_scorer(one_term_brier,greater_is_better=False,needs_proba=True)"
   ]
  },
  {
   "cell_type": "markdown",
   "metadata": {},
   "source": [
    "#### Best Score: .193\n",
    "#### Baseline: .202"
   ]
  },
  {
   "cell_type": "code",
   "execution_count": null,
   "metadata": {},
   "outputs": [],
   "source": [
    "scores = cross_val_score(LogisticRegression(),X,Y,cv=10,scoring=brier_scorer)#,n_jobs=-1)\n",
    "print abs(scores)\n",
    "print scores.mean()"
   ]
  },
  {
   "cell_type": "markdown",
   "metadata": {
    "collapsed": true
   },
   "source": [
    "## Final"
   ]
  },
  {
   "cell_type": "code",
   "execution_count": null,
   "metadata": {
    "collapsed": true
   },
   "outputs": [],
   "source": [
    "final_reg = LogisticRegressionCV(cv=10, n_jobs=-1)\n",
    "final_reg.fit(X,Y)\n",
    "Y_Final = final_reg.predict_proba(FEATURES_TRAIN)[:,1]"
   ]
  },
  {
   "cell_type": "code",
   "execution_count": null,
   "metadata": {
    "collapsed": true
   },
   "outputs": [],
   "source": [
    "Y_Final = pd.DataFrame(Y_Final, index = idx_features, columns=['jobTraining'])"
   ]
  },
  {
   "cell_type": "code",
   "execution_count": null,
   "metadata": {},
   "outputs": [],
   "source": [
    "#sanity checks\n",
    "print Y_Final.shape\n",
    "print brier_score_loss(Y.values,Y_Final.loc[idx].values)\n",
    "Y_Final.hist(normed=True)"
   ]
  },
  {
   "cell_type": "code",
   "execution_count": null,
   "metadata": {
    "collapsed": true
   },
   "outputs": [],
   "source": [
    "Y_Final.to_csv('../output/solutions/Solution1/jobTraining.csv')"
   ]
  }
 ],
 "metadata": {
  "kernelspec": {
   "display_name": "Python 2",
   "language": "python",
   "name": "python2"
  },
  "language_info": {
   "codemirror_mode": {
    "name": "ipython",
    "version": 2
   },
   "file_extension": ".py",
   "mimetype": "text/x-python",
   "name": "python",
   "nbconvert_exporter": "python",
   "pygments_lexer": "ipython2",
   "version": "2.7.12"
  }
 },
 "nbformat": 4,
 "nbformat_minor": 2
}
