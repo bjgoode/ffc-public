{
 "cells": [
  {
   "cell_type": "code",
   "execution_count": null,
   "metadata": {
    "collapsed": true
   },
   "outputs": [],
   "source": [
    "import pandas as pd\n",
    "from sklearn.preprocessing import StandardScaler\n",
    "from sklearn.linear_model import LassoCV, LinearRegression, Lasso, LassoLarsCV\n",
    "from sklearn.tree import DecisionTreeClassifier, DecisionTreeRegressor\n",
    "from sklearn.svm import LinearSVR\n",
    "from sklearn.ensemble import RandomForestRegressor\n",
    "from sklearn.neural_network import MLPRegressor\n",
    "from sklearn.naive_bayes import MultinomialNB\n",
    "from sklearn.neighbors import KNeighborsRegressor, RadiusNeighborsRegressor\n",
    "from sklearn.gaussian_process import GaussianProcessRegressor\n",
    "from sklearn.metrics import mean_squared_error\n",
    "from sklearn.model_selection import cross_val_score\n",
    "\n",
    "import numpy as np\n",
    "\n",
    "import sys\n",
    "sys.path.append('../src/')\n",
    "from ffcDataCleaning.CodeBook import getCodeDescription\n",
    "\n",
    "from matplotlib import pyplot as plt\n",
    "%matplotlib inline"
   ]
  },
  {
   "cell_type": "code",
   "execution_count": null,
   "metadata": {},
   "outputs": [],
   "source": [
    "gen_features = pd.read_csv('../output/imputing/.data/imputed_nodrops-v2.csv', index_col=0)\n",
    "gen_features.head()"
   ]
  },
  {
   "cell_type": "code",
   "execution_count": null,
   "metadata": {},
   "outputs": [],
   "source": [
    "specific_features = pd.read_csv('../output/imputing/.data/df_grit.csv', index_col=0)\n",
    "specific_features['total'] = specific_features.sum(axis=1)\n",
    "specific_features.head()\n",
    "print specific_features.shape\n",
    "print specific_features.columns"
   ]
  },
  {
   "cell_type": "code",
   "execution_count": null,
   "metadata": {
    "collapsed": true
   },
   "outputs": [],
   "source": [
    "mask = gen_features.columns[gen_features.columns.map(lambda x: x.startswith('k5')).tolist()]\n",
    "child_features = gen_features[mask]"
   ]
  },
  {
   "cell_type": "code",
   "execution_count": null,
   "metadata": {},
   "outputs": [],
   "source": [
    "features = pd.concat([gen_features,specific_features,child_features], axis = 1)\n",
    "print features.shape"
   ]
  },
  {
   "cell_type": "code",
   "execution_count": null,
   "metadata": {
    "collapsed": true
   },
   "outputs": [],
   "source": [
    "data_dir = '../.data'\n",
    "fp_train = '{}/train.csv'.format(data_dir)\n",
    "df_test = pd.read_csv(fp_train,index_col=0)"
   ]
  },
  {
   "cell_type": "code",
   "execution_count": null,
   "metadata": {},
   "outputs": [],
   "source": [
    "Y = df_test.grit.dropna()\n",
    "print Y.shape\n",
    "print Y.mean()\n",
    "idx = Y.index\n",
    "\n",
    "S = StandardScaler()\n",
    "idx_features = features.index\n",
    "FEATURES_TRAIN = S.fit_transform(features)\n",
    "X = FEATURES_TRAIN[idx-1,:]\n",
    "print X.shape"
   ]
  },
  {
   "cell_type": "code",
   "execution_count": null,
   "metadata": {},
   "outputs": [],
   "source": [
    "b = 500\n",
    "reg = LassoCV(cv=3, n_jobs=-1, selection='random')\n",
    "#reg = GaussianProcessRegressor()\n",
    "#reg = LinearRegression()\n",
    "#reg = RandomForestRegressor()\n",
    "#reg = MultinomialNB()\n",
    "#reg = KNeighborsRegressor()\n",
    "reg.fit(X[:b],Y[:b])"
   ]
  },
  {
   "cell_type": "code",
   "execution_count": null,
   "metadata": {
    "collapsed": true
   },
   "outputs": [],
   "source": [
    "from sklearn.feature_selection import SelectFromModel\n",
    "\n",
    "ms = SelectFromModel(reg, threshold = .00001, prefit = True)\n",
    "x_red = ms.transform(X)\n",
    "impt_features = features.columns[ms.get_support()]"
   ]
  },
  {
   "cell_type": "code",
   "execution_count": null,
   "metadata": {},
   "outputs": [],
   "source": [
    "print '\\n'.join(['{:.<15s}{}'.format(x,getCodeDescription(x)) for x in impt_features])"
   ]
  },
  {
   "cell_type": "code",
   "execution_count": null,
   "metadata": {},
   "outputs": [],
   "source": [
    "Y_pred = reg.predict(X[b:])\n",
    "print mean_squared_error(Y[b:], Y_pred)"
   ]
  },
  {
   "cell_type": "code",
   "execution_count": null,
   "metadata": {},
   "outputs": [],
   "source": [
    "plt.hist(Y_pred, normed=True)\n",
    "plt.hist(Y, normed=True)"
   ]
  },
  {
   "cell_type": "code",
   "execution_count": null,
   "metadata": {},
   "outputs": [],
   "source": [
    "reg2 = LassoCV()\n",
    "reg2.fit(x_red,Y)\n",
    "Y_pred = reg2.predict(x_red[b:])\n",
    "print mean_squared_error(Y[b:], Y_pred)\n",
    "#print reg2.alpha_"
   ]
  },
  {
   "cell_type": "markdown",
   "metadata": {},
   "source": [
    "#### Best Score: 0.207\n",
    "#### Baseline Score: 0.220"
   ]
  },
  {
   "cell_type": "code",
   "execution_count": null,
   "metadata": {},
   "outputs": [],
   "source": [
    "scores = cross_val_score(LassoCV(selection='random'),x_red,Y,cv=10,scoring='neg_mean_squared_error')#,n_jobs=-1)\n",
    "print abs(scores)\n",
    "print scores.mean()"
   ]
  },
  {
   "cell_type": "markdown",
   "metadata": {
    "collapsed": true
   },
   "source": [
    "## Final Fit"
   ]
  },
  {
   "cell_type": "code",
   "execution_count": null,
   "metadata": {},
   "outputs": [],
   "source": [
    "final_reg = LassoCV(selection='random', cv=10, n_jobs=-1)\n",
    "final_reg.fit(x_red,Y)\n",
    "full_x_red = ms.transform(FEATURES_TRAIN)\n",
    "print x_red.shape\n",
    "print full_x_red.shape\n",
    "Y_Final = final_reg.predict(full_x_red)"
   ]
  },
  {
   "cell_type": "code",
   "execution_count": null,
   "metadata": {
    "collapsed": true
   },
   "outputs": [],
   "source": [
    "Y_Final = pd.DataFrame(Y_Final, index = idx_features, columns=['grit'])"
   ]
  },
  {
   "cell_type": "code",
   "execution_count": null,
   "metadata": {},
   "outputs": [],
   "source": [
    "#sanity checks\n",
    "print Y_Final.shape\n",
    "print mean_squared_error(Y.values,Y_Final.loc[idx].values)\n",
    "Y_Final.hist()\n",
    "Y.hist()"
   ]
  },
  {
   "cell_type": "code",
   "execution_count": null,
   "metadata": {
    "collapsed": true
   },
   "outputs": [],
   "source": [
    "Y_Final.to_csv('../output/solutions/Solution1/grit.csv')"
   ]
  },
  {
   "cell_type": "code",
   "execution_count": null,
   "metadata": {
    "collapsed": true
   },
   "outputs": [],
   "source": []
  }
 ],
 "metadata": {
  "kernelspec": {
   "display_name": "Python 2",
   "language": "python",
   "name": "python2"
  },
  "language_info": {
   "codemirror_mode": {
    "name": "ipython",
    "version": 2
   },
   "file_extension": ".py",
   "mimetype": "text/x-python",
   "name": "python",
   "nbconvert_exporter": "python",
   "pygments_lexer": "ipython2",
   "version": "2.7.12"
  }
 },
 "nbformat": 4,
 "nbformat_minor": 2
}
